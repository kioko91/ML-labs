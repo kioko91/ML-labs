{
 "cells": [
  {
   "cell_type": "code",
   "execution_count": 23,
   "id": "e55d6b67-6ede-4fba-aac5-a06fb723369c",
   "metadata": {},
   "outputs": [],
   "source": [
    "import numpy as np\n",
    "from numpy import array\n",
    "import tensorflow as tf\n",
    "from keras.layers  import Dense,InputLayer\n",
    "from keras.initializers import constant"
   ]
  },
  {
   "cell_type": "markdown",
   "id": "d51b514b-eb28-4123-962b-0bdf37fff823",
   "metadata": {},
   "source": [
    "Importing Libraries"
   ]
  },
  {
   "cell_type": "code",
   "execution_count": 24,
   "id": "a0799c10-2cae-4c7e-bd85-72061ee52d2c",
   "metadata": {},
   "outputs": [],
   "source": [
    "X=array([[0.5,0.6,0.1]])"
   ]
  },
  {
   "cell_type": "markdown",
   "id": "07824d88-8fbe-440d-b368-290762400c5c",
   "metadata": {},
   "source": [
    "Setting up arrays"
   ]
  },
  {
   "cell_type": "code",
   "execution_count": 25,
   "id": "a378c2be-5c5e-481c-bf53-d154ff14288a",
   "metadata": {},
   "outputs": [],
   "source": [
    "w1=array([[0.2,0.3,0.2],[0.1,0.1,0.1]])\n"
   ]
  },
  {
   "cell_type": "markdown",
   "id": "2d56eb8a-d862-42e9-8bef-f9130e57cb28",
   "metadata": {},
   "source": [
    "Adding weights\n"
   ]
  },
  {
   "cell_type": "code",
   "execution_count": 26,
   "id": "64d5fe64-f6fe-4208-8733-b8c2cff0a85b",
   "metadata": {},
   "outputs": [
    {
     "data": {
      "text/plain": [
       "(1, 3)"
      ]
     },
     "execution_count": 26,
     "metadata": {},
     "output_type": "execute_result"
    }
   ],
   "source": [
    "X.shape"
   ]
  },
  {
   "cell_type": "markdown",
   "id": "f68e10e4-ff45-4089-b10d-35ea716283fb",
   "metadata": {},
   "source": [
    "Showing shape and size of the arrray"
   ]
  },
  {
   "cell_type": "code",
   "execution_count": 41,
   "id": "5cdcaede-bc42-4187-bb7d-b94ba9b48750",
   "metadata": {},
   "outputs": [],
   "source": [
    "layer1=InputLayer(3)\n",
    "layer2=Dense(10,activation='tanh')\n",
    "layer3=Dense(1,activation='sigmoid')"
   ]
  },
  {
   "cell_type": "markdown",
   "id": "a99d6012-f7b5-4bf2-b37c-40ea39b3e25c",
   "metadata": {},
   "source": [
    "Inputing layers and number of neurons"
   ]
  },
  {
   "cell_type": "code",
   "execution_count": 42,
   "id": "9b701b12-0d27-4d2f-9a26-fd2f83d73605",
   "metadata": {},
   "outputs": [
    {
     "data": {
      "text/plain": [
       "<tf.Tensor: shape=(1, 10), dtype=float32, numpy=\n",
       "array([[-0.09103143, -0.45956597,  0.11235788, -0.0784435 ,  0.08747004,\n",
       "         0.62581015, -0.0689294 ,  0.44991452,  0.13740999, -0.09422014]],\n",
       "      dtype=float32)>"
      ]
     },
     "execution_count": 42,
     "metadata": {},
     "output_type": "execute_result"
    }
   ],
   "source": [
    "layer2(layer1(X))"
   ]
  },
  {
   "cell_type": "code",
   "execution_count": 43,
   "id": "2e51c48a-8c21-4020-892d-8a539bfac2b1",
   "metadata": {},
   "outputs": [
    {
     "data": {
      "text/plain": [
       "[<tf.Variable 'dense_14/kernel:0' shape=(3, 10) dtype=float32, numpy=\n",
       " array([[-0.08559263, -0.38328025,  0.59995127,  0.1827578 , -0.59622896,\n",
       "          0.6770179 , -0.07067454,  0.46040082,  0.6115761 ,  0.27351302],\n",
       "        [-0.07421237, -0.6125612 , -0.267763  , -0.28494352,  0.6384468 ,\n",
       "          0.55646086, -0.15133995,  0.37785542, -0.2498487 , -0.47877383],\n",
       "        [-0.03960401,  0.6241603 , -0.26483515,  0.00982225,  0.02740526,\n",
       "          0.6211369 ,  0.5710236 ,  0.27679443, -0.17594033,  0.5600735 ]],\n",
       "       dtype=float32)>,\n",
       " <tf.Variable 'dense_14/bias:0' shape=(10,) dtype=float32, numpy=array([0., 0., 0., 0., 0., 0., 0., 0., 0., 0.], dtype=float32)>]"
      ]
     },
     "execution_count": 43,
     "metadata": {},
     "output_type": "execute_result"
    }
   ],
   "source": [
    "layer2.weights"
   ]
  },
  {
   "cell_type": "markdown",
   "id": "83d4ee23-afe4-47ed-8d58-f5c9c2f0aa5a",
   "metadata": {},
   "source": [
    "Viewing weights of layer2"
   ]
  },
  {
   "cell_type": "code",
   "execution_count": 44,
   "id": "8a79801e-2795-482d-b4c0-2cbbde3a979d",
   "metadata": {},
   "outputs": [
    {
     "data": {
      "text/plain": [
       "<tf.Tensor: shape=(1, 1), dtype=float32, numpy=array([[0.6429495]], dtype=float32)>"
      ]
     },
     "execution_count": 44,
     "metadata": {},
     "output_type": "execute_result"
    }
   ],
   "source": [
    "layer3(layer2(layer1(X)))"
   ]
  },
  {
   "cell_type": "code",
   "execution_count": 45,
   "id": "85ab4f73-8a92-4858-bb6b-383d1fdca142",
   "metadata": {},
   "outputs": [
    {
     "data": {
      "text/plain": [
       "[<tf.Variable 'dense_15/kernel:0' shape=(10, 1) dtype=float32, numpy=\n",
       " array([[-0.27897465],\n",
       "        [-0.46798086],\n",
       "        [ 0.45945066],\n",
       "        [-0.08420467],\n",
       "        [ 0.03898776],\n",
       "        [ 0.50600594],\n",
       "        [ 0.72103614],\n",
       "        [-0.19488126],\n",
       "        [ 0.5654767 ],\n",
       "        [-0.30887035]], dtype=float32)>,\n",
       " <tf.Variable 'dense_15/bias:0' shape=(1,) dtype=float32, numpy=array([0.], dtype=float32)>]"
      ]
     },
     "execution_count": 45,
     "metadata": {},
     "output_type": "execute_result"
    }
   ],
   "source": [
    "layer3.weights"
   ]
  },
  {
   "cell_type": "markdown",
   "id": "39be85e2-c8fc-46a5-bde9-852be1a18a58",
   "metadata": {},
   "source": [
    "Viewing layer 3 weights"
   ]
  },
  {
   "cell_type": "code",
   "execution_count": null,
   "id": "7c74ed2d-390a-4ed0-afb3-0c6aacd6f874",
   "metadata": {},
   "outputs": [],
   "source": []
  }
 ],
 "metadata": {
  "kernelspec": {
   "display_name": "Python 3",
   "language": "python",
   "name": "python3"
  },
  "language_info": {
   "codemirror_mode": {
    "name": "ipython",
    "version": 3
   },
   "file_extension": ".py",
   "mimetype": "text/x-python",
   "name": "python",
   "nbconvert_exporter": "python",
   "pygments_lexer": "ipython3",
   "version": "3.8.9"
  }
 },
 "nbformat": 4,
 "nbformat_minor": 5
}
