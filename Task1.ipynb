{
  "nbformat": 4,
  "nbformat_minor": 0,
  "metadata": {
    "colab": {
      "name": "Task1.ipynb",
      "provenance": [],
      "authorship_tag": "ABX9TyNEZGcWLhpm9pFeK66bOCmg",
      "include_colab_link": true
    },
    "kernelspec": {
      "name": "python3",
      "display_name": "Python 3"
    },
    "language_info": {
      "name": "python"
    }
  },
  "cells": [
    {
      "cell_type": "markdown",
      "metadata": {
        "id": "view-in-github",
        "colab_type": "text"
      },
      "source": [
        "<a href=\"https://colab.research.google.com/github/kioko91/ML-labs/blob/main/Task1.ipynb\" target=\"_parent\"><img src=\"https://colab.research.google.com/assets/colab-badge.svg\" alt=\"Open In Colab\"/></a>"
      ]
    },
    {
      "cell_type": "code",
      "metadata": {
        "id": "UhSHpfPi8MOj"
      },
      "source": [
        "from numpy import random\n",
        "import pandas as pd\n",
        "import matplotlib.pyplot as plt\n",
        "import seaborn as sns\n",
        "from scipy.stats import binom,poisson\n",
        "from sklearn.metrics import mean_squared_error"
      ],
      "execution_count": 29,
      "outputs": []
    },
    {
      "cell_type": "code",
      "metadata": {
        "id": "CY1bCdW8G3uw"
      },
      "source": [
        "x=random.normal(200,50,100)\n",
        "y=random.normal(10000,3000,100)"
      ],
      "execution_count": 53,
      "outputs": []
    },
    {
      "cell_type": "code",
      "metadata": {
        "id": "8zF1ts_ZG7cl",
        "colab": {
          "base_uri": "https://localhost:8080/",
          "height": 424
        },
        "outputId": "74b65c4c-d9c3-4fc4-afad-3dd5f7bb0f7c"
      },
      "source": [
        "dummmy_data={'Office Size(X)':x,'Office Price(Y)':y,}\n",
        "data=pd.DataFrame(dummmy_data)\n",
        "data"
      ],
      "execution_count": 62,
      "outputs": [
        {
          "output_type": "execute_result",
          "data": {
            "text/html": [
              "<div>\n",
              "<style scoped>\n",
              "    .dataframe tbody tr th:only-of-type {\n",
              "        vertical-align: middle;\n",
              "    }\n",
              "\n",
              "    .dataframe tbody tr th {\n",
              "        vertical-align: top;\n",
              "    }\n",
              "\n",
              "    .dataframe thead th {\n",
              "        text-align: right;\n",
              "    }\n",
              "</style>\n",
              "<table border=\"1\" class=\"dataframe\">\n",
              "  <thead>\n",
              "    <tr style=\"text-align: right;\">\n",
              "      <th></th>\n",
              "      <th>Office Size(X)</th>\n",
              "      <th>Office Price(Y)</th>\n",
              "    </tr>\n",
              "  </thead>\n",
              "  <tbody>\n",
              "    <tr>\n",
              "      <th>0</th>\n",
              "      <td>119.750124</td>\n",
              "      <td>10523.093897</td>\n",
              "    </tr>\n",
              "    <tr>\n",
              "      <th>1</th>\n",
              "      <td>187.755682</td>\n",
              "      <td>6136.414900</td>\n",
              "    </tr>\n",
              "    <tr>\n",
              "      <th>2</th>\n",
              "      <td>157.472165</td>\n",
              "      <td>16394.485595</td>\n",
              "    </tr>\n",
              "    <tr>\n",
              "      <th>3</th>\n",
              "      <td>75.238807</td>\n",
              "      <td>9344.644203</td>\n",
              "    </tr>\n",
              "    <tr>\n",
              "      <th>4</th>\n",
              "      <td>199.460587</td>\n",
              "      <td>13144.771303</td>\n",
              "    </tr>\n",
              "    <tr>\n",
              "      <th>...</th>\n",
              "      <td>...</td>\n",
              "      <td>...</td>\n",
              "    </tr>\n",
              "    <tr>\n",
              "      <th>95</th>\n",
              "      <td>254.859973</td>\n",
              "      <td>13592.539029</td>\n",
              "    </tr>\n",
              "    <tr>\n",
              "      <th>96</th>\n",
              "      <td>282.807829</td>\n",
              "      <td>12446.098809</td>\n",
              "    </tr>\n",
              "    <tr>\n",
              "      <th>97</th>\n",
              "      <td>170.146225</td>\n",
              "      <td>8216.070226</td>\n",
              "    </tr>\n",
              "    <tr>\n",
              "      <th>98</th>\n",
              "      <td>212.909165</td>\n",
              "      <td>9909.499946</td>\n",
              "    </tr>\n",
              "    <tr>\n",
              "      <th>99</th>\n",
              "      <td>156.547989</td>\n",
              "      <td>14020.607018</td>\n",
              "    </tr>\n",
              "  </tbody>\n",
              "</table>\n",
              "<p>100 rows × 2 columns</p>\n",
              "</div>"
            ],
            "text/plain": [
              "    Office Size(X)  Office Price(Y)\n",
              "0       119.750124     10523.093897\n",
              "1       187.755682      6136.414900\n",
              "2       157.472165     16394.485595\n",
              "3        75.238807      9344.644203\n",
              "4       199.460587     13144.771303\n",
              "..             ...              ...\n",
              "95      254.859973     13592.539029\n",
              "96      282.807829     12446.098809\n",
              "97      170.146225      8216.070226\n",
              "98      212.909165      9909.499946\n",
              "99      156.547989     14020.607018\n",
              "\n",
              "[100 rows x 2 columns]"
            ]
          },
          "metadata": {
            "tags": []
          },
          "execution_count": 62
        }
      ]
    },
    {
      "cell_type": "code",
      "metadata": {
        "id": "UuTA0UTkowI8"
      },
      "source": [
        "def mean_squared_error(y_hat):\n",
        "  dummmy_data={'Office Size(X)':x,'Office Price(Y)':y,'Y^':y_hat,'Mean Squared Error(y-y^)^2':((y-y_hat)**2)}\n",
        "  data=pd.DataFrame(dummmy_data)\n",
        "  #data\n",
        "  #data.describe()\n",
        "  return data.get(\"Mean Squared Error(y-y^)^2\").mean()\n",
        "#mean_squared_error()"
      ],
      "execution_count": 63,
      "outputs": []
    },
    {
      "cell_type": "code",
      "metadata": {
        "id": "SfUSjZq_o0Nj"
      },
      "source": [
        "def plot_result(m,c):\n",
        "   y_predicted=m*x+c\n",
        "   print(y_predicted)\n",
        "   plt.scatter(x,y)\n",
        "   plt.plot(x,y_predicted)\n",
        "   plt.show()"
      ],
      "execution_count": 60,
      "outputs": []
    },
    {
      "cell_type": "code",
      "metadata": {
        "id": "0rEFZAwho9ev"
      },
      "source": [
        "def predict_officePrice(m,c,office_size):\n",
        "\n",
        "  y_p=m*office_size+c\n",
        "  return print('For office size ' + str(office_size) +' the predicted office price is ' +str(y_p))"
      ],
      "execution_count": 57,
      "outputs": []
    },
    {
      "cell_type": "code",
      "metadata": {
        "colab": {
          "base_uri": "https://localhost:8080/",
          "height": 743
        },
        "id": "EdPj4rigo-_F",
        "outputId": "a4f011eb-d292-45fe-c7c5-624924cc8c0d"
      },
      "source": [
        "def gradient_descent(iterations=100,learning_rate=0.00001,m=0,c=0):\n",
        "    \n",
        "    n = len(x)\n",
        "    \n",
        "  \n",
        "\n",
        "    for i in range(iterations):\n",
        "        y_predicted = m*x + c\n",
        "        mse=mean_squared_error(y_hat=y_predicted)\n",
        "        \n",
        "        md = -(2/n)*sum(x*(y-y_predicted))\n",
        "        cd = -(2/n)*sum(y-y_predicted)\n",
        "        m = m-learning_rate * md\n",
        "        c = c-learning_rate * cd\n",
        "    #plot a graph of the predicted line vs the data    \n",
        "    plot_result(m,c)\n",
        "\n",
        "    #predict the office price of a give office size\n",
        "    predict_officePrice(m,c,office_size=100)\n",
        "   \n",
        "gradient_descent()"
      ],
      "execution_count": 61,
      "outputs": [
        {
          "output_type": "stream",
          "text": [
            "[ 5776.59096458  9056.25262011  7595.78831884  3629.97141235\n",
            "  9620.73780324  9044.27218924  7051.52079285  9276.08000023\n",
            "  9367.14065961 13019.09613978 10039.09168363 11219.98701178\n",
            " 11446.88239258 13470.24084113  6891.0207173  10894.28245789\n",
            " 14228.03576364 11085.51174978  4527.62223482 10811.0134356\n",
            "  3758.99728432  9177.49392978 11031.95974727  9021.38082555\n",
            " 14728.83623687 10753.82025803  7662.6750187   8207.51835878\n",
            " 11640.36568272 12313.58243204 12244.67600037  6220.46994542\n",
            " 12701.9068708  11109.98069865 12752.22583415  7679.1363777\n",
            "  8487.4192009   7207.95010944  9173.81430083 11631.55373094\n",
            " 10338.87422015  6232.21021835  7353.16021369 11643.19442728\n",
            "  9370.64157838 11168.81098223  7867.56293827  4949.27596614\n",
            "  5294.1552237  10888.4098975  14341.52541079  6559.48998025\n",
            " 11769.77395286  8633.39942726  7316.30229594 13655.07802601\n",
            " 10643.96382502  8477.01504202 12755.27535681 11620.99275679\n",
            " 12836.97332402 10180.07288545  9722.18275149 14720.71584459\n",
            " 14545.03072012 13612.82459184  9788.70724573  5566.44183921\n",
            "  7619.91414151  8763.43425219 12233.01787502  6560.96518812\n",
            " 12362.95229181 10617.69564364 12331.34088357  6441.72472924\n",
            "  7612.02839154 12414.69666449 12749.42496045 10738.35865416\n",
            " 12087.94515116  8507.43013203  9700.15532073  8510.47777527\n",
            "  9138.24778878 11070.76737036  7204.88520569 11355.69194139\n",
            " 11735.01759806  7962.36022678  5720.14401673 13009.32511915\n",
            "  8959.77177451  8212.54295333  9529.05036306 12292.44946953\n",
            " 13640.2733465   8207.01231707 10269.31397554  7551.21865969]\n"
          ],
          "name": "stdout"
        },
        {
          "output_type": "display_data",
          "data": {
            "image/png": "[encoded data removed]",
            "text/plain": [
              "<Figure size 432x288 with 1 Axes>"
            ]
          },
          "metadata": {
            "tags": [],
            "needs_background": "light"
          }
        },
        {
          "output_type": "stream",
          "text": [
            "For office size 100 the predicted office price is 4824.114034727032\n"
          ],
          "name": "stdout"
        }
      ]
    }
  ]
}