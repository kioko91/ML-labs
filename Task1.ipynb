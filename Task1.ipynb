{
  "nbformat": 4,
  "nbformat_minor": 0,
  "metadata": {
    "colab": {
      "name": "Task1.ipynb",
      "provenance": [],
      "authorship_tag": "ABX9TyPV3xsWkbX3xeBuMX59czPe",
      "include_colab_link": true
    },
    "kernelspec": {
      "name": "python3",
      "display_name": "Python 3"
    },
    "language_info": {
      "name": "python"
    }
  },
  "cells": [
    {
      "cell_type": "markdown",
      "metadata": {
        "id": "view-in-github",
        "colab_type": "text"
      },
      "source": [
        "<a href=\"https://colab.research.google.com/github/kioko91/ML-labs/blob/main/Task1.ipynb\" target=\"_parent\"><img src=\"https://colab.research.google.com/assets/colab-badge.svg\" alt=\"Open In Colab\"/></a>"
      ]
    },
    {
      "cell_type": "code",
      "metadata": {
        "id": "UhSHpfPi8MOj"
      },
      "source": [
        "from numpy import random\n",
        "import pandas as pd\n",
        "import matplotlib.pyplot as plt\n",
        "import seaborn as sns\n",
        "from scipy.stats import binom,poisson\n",
        "from sklearn.metrics import mean_squared_error"
      ],
      "execution_count": 64,
      "outputs": []
    },
    {
      "cell_type": "markdown",
      "metadata": {
        "id": "gcs6tkZR7L5a"
      },
      "source": [
        "Implementation and importation"
      ]
    },
    {
      "cell_type": "code",
      "metadata": {
        "id": "CY1bCdW8G3uw"
      },
      "source": [
        "x=random.normal(200,50,100)\n",
        "y=random.normal(10000,3000,100)"
      ],
      "execution_count": 65,
      "outputs": []
    },
    {
      "cell_type": "markdown",
      "metadata": {
        "id": "3KrZtlYy6BOh"
      },
      "source": [
        "Generate 100 random values\n"
      ]
    },
    {
      "cell_type": "code",
      "metadata": {
        "id": "8zF1ts_ZG7cl"
      },
      "source": [
        "dummmy_data={'Office Size(X)':x,'Office Price(Y)':y,}\n",
        "data=pd.DataFrame(dummmy_data)\n",
        "data"
      ],
      "execution_count": null,
      "outputs": []
    },
    {
      "cell_type": "markdown",
      "metadata": {
        "id": "LjGs6L7g6EqT"
      },
      "source": [
        "Create a table with the data\n"
      ]
    },
    {
      "cell_type": "code",
      "metadata": {
        "id": "UuTA0UTkowI8"
      },
      "source": [
        "def mean_squared_error(y_hat):\n",
        "  dummmy_data={'Office Size(X)':x,'Office Price(Y)':y,'Y^':y_hat,'Mean Squared Error(y-y^)^2':((y-y_hat)**2)}\n",
        "  data=pd.DataFrame(dummmy_data)\n",
        "  #data\n",
        "  #data.describe()\n",
        "  return data.get(\"Mean Squared Error(y-y^)^2\").mean()\n",
        "#mean_squared_error()"
      ],
      "execution_count": 67,
      "outputs": []
    },
    {
      "cell_type": "markdown",
      "metadata": {
        "id": "zVVLrDb_6Pa_"
      },
      "source": [
        "Function to calculate the mean squared error given y_hat"
      ]
    },
    {
      "cell_type": "code",
      "metadata": {
        "id": "0rEFZAwho9ev"
      },
      "source": [
        "def predict_officePrice(m,c,office_size):\n",
        "\n",
        "  y_p=m*office_size+c\n",
        "  return print('For office size ' + str(office_size) +' the predicted office price is ' +str(y_p))"
      ],
      "execution_count": 68,
      "outputs": []
    },
    {
      "cell_type": "markdown",
      "metadata": {
        "id": "0PGhT4KX6-Uf"
      },
      "source": [
        "function to predict the office price of a give office size"
      ]
    },
    {
      "cell_type": "code",
      "metadata": {
        "colab": {
          "base_uri": "https://localhost:8080/",
          "height": 743
        },
        "id": "EdPj4rigo-_F",
        "outputId": "0c46b4ca-6315-4351-b4d2-64f3058ff9dc"
      },
      "source": [
        "def gradient_descent(iterations=100,learning_rate=0.00001,m=0,c=0):\n",
        "    \n",
        "    n = len(x)\n",
        "    \n",
        "  \n",
        "\n",
        "    for i in range(iterations):\n",
        "        y_predicted = m*x + c\n",
        "        mse=mean_squared_error(y_hat=y_predicted)\n",
        "        \n",
        "        md = -(2/n)*sum(x*(y-y_predicted))\n",
        "        cd = -(2/n)*sum(y-y_predicted)\n",
        "        m = m-learning_rate * md\n",
        "        c = c-learning_rate * cd\n",
        "    #plot a graph of the predicted line vs the data    \n",
        "    plot_result(m,c)\n",
        "\n",
        "    #predict the office price of a give office size\n",
        "    predict_officePrice(m,c,office_size=100)\n",
        "   \n",
        "gradient_descent()"
      ],
      "execution_count": 69,
      "outputs": [
        {
          "output_type": "stream",
          "text": [
            "[ 8487.43819513  8822.78195282  6217.33617504  5050.42502097\n",
            "  8170.80993443  6806.86105651 11323.47222754 11286.1255017\n",
            "  5571.25221971  9793.37893492  2868.5839907  10857.18512289\n",
            "  9112.07470979 10486.47778592  7154.95177813 13336.81568323\n",
            "  5752.58116435  8926.06536408 11007.68536946 12337.0013423\n",
            "  9406.69578938  9422.99201958  3947.53963102  5950.37815867\n",
            "  8734.01568314 10442.10738072  9238.04177012  6654.65417928\n",
            "  5580.20223174 11724.04778533  5232.25895733 11230.83146998\n",
            "  6352.77829408  8797.67834448  7420.85626618  5621.94930478\n",
            " 12353.20871811  6162.79751424  8426.27157455 11196.33998429\n",
            " 12277.41124004  9941.84521198  7301.29317979 13051.18697121\n",
            "  4959.67721661  7797.78055699  7959.11227371 11847.67830373\n",
            "  5424.08321302  8258.41218824  7747.07593787 10664.71571216\n",
            "  6254.35367651 11721.69971746  3246.77200574 12533.73089177\n",
            "  6793.2665223   9678.69422039 13514.16989074 12473.68265683\n",
            "  9239.74570251  6129.7480206  12382.14124698 11231.25748512\n",
            " 10602.28830855  8880.60542095  8322.23579422  5203.77345693\n",
            " 12516.24206004  9754.13008608  9746.42442901  8691.10596529\n",
            " 10047.85997852  6321.04250081  9392.20214746  5855.8017244\n",
            "  8734.99328683 15004.02717122  7411.84215679  8165.72313769\n",
            "  8736.86666067  6363.7178359   8681.22209174  7888.48831604\n",
            "  6483.70729119  7403.4045776   9036.75104684  7670.61737268\n",
            " 11214.4162384   7079.45309746 10550.57550404 10211.01144833\n",
            " 10910.10504716 12114.06686512  8812.67456098  4627.17688567\n",
            "  6324.58498393 10890.64151019  5218.02341639  8852.81282256]\n"
          ],
          "name": "stdout"
        },
        {
          "output_type": "display_data",
          "data": {
            "image/png": "[encoded data removed]",
            "text/plain": [
              "<Figure size 432x288 with 1 Axes>"
            ]
          },
          "metadata": {
            "tags": [],
            "needs_background": "light"
          }
        },
        {
          "output_type": "stream",
          "text": [
            "For office size 100 the predicted office price is 4350.026285225952\n"
          ],
          "name": "stdout"
        }
      ]
    },
    {
      "cell_type": "markdown",
      "metadata": {
        "id": "8CY0-7Oi6amT"
      },
      "source": [
        "Function to calculate the gradient descent.\n"
      ]
    },
    {
      "cell_type": "code",
      "metadata": {
        "id": "SfUSjZq_o0Nj"
      },
      "source": [
        "def plot_result(m,c):\n",
        "   y_predicted=m*x+c\n",
        "   print(y_predicted)\n",
        "   plt.scatter(x,y)\n",
        "   plt.plot(x,y_predicted)\n",
        "   plt.show()"
      ],
      "execution_count": 70,
      "outputs": []
    },
    {
      "cell_type": "markdown",
      "metadata": {
        "id": "e_UcwKoD6t6_"
      },
      "source": [
        "Function to plot a graph of the data and line of best fit\n"
      ]
    }
  ]
}