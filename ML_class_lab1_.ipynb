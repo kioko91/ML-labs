{
  "nbformat": 4,
  "nbformat_minor": 0,
  "metadata": {
    "colab": {
      "name": "ML class lab1 .ipynb",
      "provenance": [],
      "authorship_tag": "ABX9TyM9p0x7IUP+WbQje3jRDk+d",
      "include_colab_link": true
    },
    "kernelspec": {
      "name": "python3",
      "display_name": "Python 3"
    },
    "language_info": {
      "name": "python"
    }
  },
  "cells": [
    {
      "cell_type": "markdown",
      "metadata": {
        "id": "view-in-github",
        "colab_type": "text"
      },
      "source": [
        "<a href=\"https://colab.research.google.com/github/kioko91/ML-labs/blob/main/ML_class_lab1_.ipynb\" target=\"_parent\"><img src=\"https://colab.research.google.com/assets/colab-badge.svg\" alt=\"Open In Colab\"/></a>"
      ]
    },
    {
      "cell_type": "code",
      "metadata": {
        "id": "ArdXRh4wPK5E"
      },
      "source": [
        "from numpy import random\n",
        "import pandas as pd\n"
      ],
      "execution_count": null,
      "outputs": []
    },
    {
      "cell_type": "code",
      "metadata": {
        "colab": {
          "base_uri": "https://localhost:8080/"
        },
        "id": "MbUF3fViPV8G",
        "outputId": "f791a9dd-b466-4a75-8067-fc50fd242220"
      },
      "source": [
        "random.binomial(100,0.5,10)"
      ],
      "execution_count": null,
      "outputs": [
        {
          "output_type": "execute_result",
          "data": {
            "text/plain": [
              "array([51, 51, 52, 56, 47, 56, 55, 46, 41, 44])"
            ]
          },
          "metadata": {
            "tags": []
          },
          "execution_count": 10
        }
      ]
    },
    {
      "cell_type": "code",
      "metadata": {
        "colab": {
          "base_uri": "https://localhost:8080/"
        },
        "id": "bY2ncqPGQ4v5",
        "outputId": "252ec574-142b-45d3-c1cf-92394201114d"
      },
      "source": [
        "random.poisson(2,15)"
      ],
      "execution_count": null,
      "outputs": [
        {
          "output_type": "execute_result",
          "data": {
            "text/plain": [
              "array([0, 3, 1, 1, 3, 2, 0, 1, 3, 1, 1, 4, 0, 0, 1])"
            ]
          },
          "metadata": {
            "tags": []
          },
          "execution_count": 13
        }
      ]
    },
    {
      "cell_type": "code",
      "metadata": {
        "colab": {
          "base_uri": "https://localhost:8080/"
        },
        "id": "2IQLuPe2RFzW",
        "outputId": "6af23b30-d750-4c92-d939-ab656e5570c7"
      },
      "source": [
        "random.uniform(10,100,20)"
      ],
      "execution_count": null,
      "outputs": [
        {
          "output_type": "execute_result",
          "data": {
            "text/plain": [
              "array([39.55644987, 96.17903505, 17.70390292, 59.87435833, 67.92837602,\n",
              "       39.41765981, 10.63552423, 44.87738031, 66.37325956, 61.08627099,\n",
              "       75.74684521, 33.66743488, 70.22089958, 77.89175454, 61.23075331,\n",
              "       43.64344477, 72.98259843, 33.97301032, 28.49733726, 81.10960121])"
            ]
          },
          "metadata": {
            "tags": []
          },
          "execution_count": 15
        }
      ]
    },
    {
      "cell_type": "code",
      "metadata": {
        "id": "68uUmRo8RdEx"
      },
      "source": [
        "dummy_data={'Age':random.normal(33,1,15), 'Gender':random.binomial(1,0.5,15), 'Location':random.poisson(2,15), 'Income':random.uniform(30,100,15)}"
      ],
      "execution_count": null,
      "outputs": []
    },
    {
      "cell_type": "code",
      "metadata": {
        "id": "3MPqR2MVSnud"
      },
      "source": [
        "dummy_data"
      ],
      "execution_count": null,
      "outputs": []
    },
    {
      "cell_type": "code",
      "metadata": {
        "colab": {
          "base_uri": "https://localhost:8080/",
          "height": 520
        },
        "id": "VAwWbbw0RkE7",
        "outputId": "fa44e3be-31c7-4998-fac2-e252e992091e"
      },
      "source": [
        "pd.DataFrame(dummy_data)"
      ],
      "execution_count": null,
      "outputs": [
        {
          "output_type": "execute_result",
          "data": {
            "text/html": [
              "<div>\n",
              "<style scoped>\n",
              "    .dataframe tbody tr th:only-of-type {\n",
              "        vertical-align: middle;\n",
              "    }\n",
              "\n",
              "    .dataframe tbody tr th {\n",
              "        vertical-align: top;\n",
              "    }\n",
              "\n",
              "    .dataframe thead th {\n",
              "        text-align: right;\n",
              "    }\n",
              "</style>\n",
              "<table border=\"1\" class=\"dataframe\">\n",
              "  <thead>\n",
              "    <tr style=\"text-align: right;\">\n",
              "      <th></th>\n",
              "      <th>Age</th>\n",
              "      <th>Gender</th>\n",
              "      <th>Location</th>\n",
              "      <th>Income</th>\n",
              "    </tr>\n",
              "  </thead>\n",
              "  <tbody>\n",
              "    <tr>\n",
              "      <th>0</th>\n",
              "      <td>33.013750</td>\n",
              "      <td>1</td>\n",
              "      <td>2</td>\n",
              "      <td>47.225180</td>\n",
              "    </tr>\n",
              "    <tr>\n",
              "      <th>1</th>\n",
              "      <td>32.651878</td>\n",
              "      <td>1</td>\n",
              "      <td>3</td>\n",
              "      <td>58.957212</td>\n",
              "    </tr>\n",
              "    <tr>\n",
              "      <th>2</th>\n",
              "      <td>30.653838</td>\n",
              "      <td>0</td>\n",
              "      <td>3</td>\n",
              "      <td>59.581788</td>\n",
              "    </tr>\n",
              "    <tr>\n",
              "      <th>3</th>\n",
              "      <td>32.806597</td>\n",
              "      <td>1</td>\n",
              "      <td>4</td>\n",
              "      <td>83.663369</td>\n",
              "    </tr>\n",
              "    <tr>\n",
              "      <th>4</th>\n",
              "      <td>33.897508</td>\n",
              "      <td>1</td>\n",
              "      <td>1</td>\n",
              "      <td>37.007261</td>\n",
              "    </tr>\n",
              "    <tr>\n",
              "      <th>5</th>\n",
              "      <td>32.738577</td>\n",
              "      <td>1</td>\n",
              "      <td>5</td>\n",
              "      <td>92.648646</td>\n",
              "    </tr>\n",
              "    <tr>\n",
              "      <th>6</th>\n",
              "      <td>34.780950</td>\n",
              "      <td>1</td>\n",
              "      <td>1</td>\n",
              "      <td>92.622329</td>\n",
              "    </tr>\n",
              "    <tr>\n",
              "      <th>7</th>\n",
              "      <td>34.376167</td>\n",
              "      <td>1</td>\n",
              "      <td>1</td>\n",
              "      <td>71.869219</td>\n",
              "    </tr>\n",
              "    <tr>\n",
              "      <th>8</th>\n",
              "      <td>32.142532</td>\n",
              "      <td>0</td>\n",
              "      <td>1</td>\n",
              "      <td>75.551085</td>\n",
              "    </tr>\n",
              "    <tr>\n",
              "      <th>9</th>\n",
              "      <td>33.090834</td>\n",
              "      <td>1</td>\n",
              "      <td>3</td>\n",
              "      <td>35.182805</td>\n",
              "    </tr>\n",
              "    <tr>\n",
              "      <th>10</th>\n",
              "      <td>32.567221</td>\n",
              "      <td>0</td>\n",
              "      <td>2</td>\n",
              "      <td>85.085701</td>\n",
              "    </tr>\n",
              "    <tr>\n",
              "      <th>11</th>\n",
              "      <td>32.140787</td>\n",
              "      <td>1</td>\n",
              "      <td>2</td>\n",
              "      <td>60.853281</td>\n",
              "    </tr>\n",
              "    <tr>\n",
              "      <th>12</th>\n",
              "      <td>32.025646</td>\n",
              "      <td>1</td>\n",
              "      <td>2</td>\n",
              "      <td>37.330492</td>\n",
              "    </tr>\n",
              "    <tr>\n",
              "      <th>13</th>\n",
              "      <td>32.659079</td>\n",
              "      <td>0</td>\n",
              "      <td>3</td>\n",
              "      <td>38.527412</td>\n",
              "    </tr>\n",
              "    <tr>\n",
              "      <th>14</th>\n",
              "      <td>32.253984</td>\n",
              "      <td>0</td>\n",
              "      <td>2</td>\n",
              "      <td>64.025443</td>\n",
              "    </tr>\n",
              "  </tbody>\n",
              "</table>\n",
              "</div>"
            ],
            "text/plain": [
              "          Age  Gender  Location     Income\n",
              "0   33.013750       1         2  47.225180\n",
              "1   32.651878       1         3  58.957212\n",
              "2   30.653838       0         3  59.581788\n",
              "3   32.806597       1         4  83.663369\n",
              "4   33.897508       1         1  37.007261\n",
              "5   32.738577       1         5  92.648646\n",
              "6   34.780950       1         1  92.622329\n",
              "7   34.376167       1         1  71.869219\n",
              "8   32.142532       0         1  75.551085\n",
              "9   33.090834       1         3  35.182805\n",
              "10  32.567221       0         2  85.085701\n",
              "11  32.140787       1         2  60.853281\n",
              "12  32.025646       1         2  37.330492\n",
              "13  32.659079       0         3  38.527412\n",
              "14  32.253984       0         2  64.025443"
            ]
          },
          "metadata": {
            "tags": []
          },
          "execution_count": 35
        }
      ]
    }
  ]
}