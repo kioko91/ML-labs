{
  "nbformat": 4,
  "nbformat_minor": 0,
  "metadata": {
    "colab": {
      "name": "MlLab2.ipynb",
      "provenance": [],
      "authorship_tag": "ABX9TyP1x5rnBfB0pZXPa4MicaAC",
      "include_colab_link": true
    },
    "kernelspec": {
      "name": "python3",
      "display_name": "Python 3"
    },
    "language_info": {
      "name": "python"
    }
  },
  "cells": [
    {
      "cell_type": "markdown",
      "metadata": {
        "id": "view-in-github",
        "colab_type": "text"
      },
      "source": [
        "<a href=\"https://colab.research.google.com/github/kioko91/ML-labs/blob/main/MlLab2.ipynb\" target=\"_parent\"><img src=\"https://colab.research.google.com/assets/colab-badge.svg\" alt=\"Open In Colab\"/></a>"
      ]
    },
    {
      "cell_type": "code",
      "metadata": {
        "id": "sHnI0VUSVl1E"
      },
      "source": [
        "from numpy import random\n",
        "from scipy.stats import binom,poisson,norm\n",
        "import matplotlib.pyplot as plt\n",
        "import seaborn as sns\n"
      ],
      "execution_count": 104,
      "outputs": []
    },
    {
      "cell_type": "code",
      "metadata": {
        "colab": {
          "base_uri": "https://localhost:8080/"
        },
        "id": "Cc4bbxWkVsiA",
        "outputId": "d567e00b-8d10-4181-e659-d3248a65dbf7"
      },
      "source": [
        "random.binomial(3,0.5,20)"
      ],
      "execution_count": 90,
      "outputs": [
        {
          "output_type": "execute_result",
          "data": {
            "text/plain": [
              "array([1, 2, 1, 3, 2, 2, 1, 2, 1, 2, 1, 2, 1, 1, 3, 2, 1, 1, 2, 3])"
            ]
          },
          "metadata": {
            "tags": []
          },
          "execution_count": 90
        }
      ]
    },
    {
      "cell_type": "code",
      "metadata": {
        "id": "k-bQ3xzEX3gV"
      },
      "source": [
        "n=20 #Number of trials\n",
        "p=0.5 #Probability of success\n",
        "p2=1/5 #Second probability of success"
      ],
      "execution_count": 122,
      "outputs": []
    },
    {
      "cell_type": "code",
      "metadata": {
        "id": "l7n37YGmX56I"
      },
      "source": [
        "x=[*range(0,n+1)] #Calculating range and placing them in an array"
      ],
      "execution_count": 121,
      "outputs": []
    },
    {
      "cell_type": "code",
      "metadata": {
        "colab": {
          "base_uri": "https://localhost:8080/"
        },
        "id": "4QYLQ_6aYNvc",
        "outputId": "cf3236fb-8ed8-4393-ea97-92d552f30569"
      },
      "source": [
        "x #array of range"
      ],
      "execution_count": 113,
      "outputs": [
        {
          "output_type": "execute_result",
          "data": {
            "text/plain": [
              "[0, 1, 2, 3, 4, 5, 6, 7, 8, 9, 10, 11, 12, 13, 14, 15, 16, 17, 18, 19, 20]"
            ]
          },
          "metadata": {
            "tags": []
          },
          "execution_count": 113
        }
      ]
    },
    {
      "cell_type": "code",
      "metadata": {
        "id": "S4jVTKAlW5xa"
      },
      "source": [
        "y=binom.pmf(x,n,p) #To get binomial probability distribution of p"
      ],
      "execution_count": 114,
      "outputs": []
    },
    {
      "cell_type": "code",
      "metadata": {
        "id": "HOpqcoh6aEL5"
      },
      "source": [
        "z=binom.pmf(x,n,p2) #To get binomial probability distribution of p2"
      ],
      "execution_count": 115,
      "outputs": []
    },
    {
      "cell_type": "code",
      "metadata": {
        "id": "zZ4IVrS4a0OB"
      },
      "source": [
        "f=poisson.pmf(x,n*p) #To estimate binomial probability using poisson probability distribution of p"
      ],
      "execution_count": 116,
      "outputs": []
    },
    {
      "cell_type": "markdown",
      "metadata": {
        "id": "b8BOFYpVd-Zf"
      },
      "source": [
        "Binomial(n,p)= Normal (np,npq) as n gets larger and as p approaches 0.5\n",
        "\n",
        "Binomial(n,p)= Poisson(np) as n gets larger and p gets smaller\n",
        "\n",
        "Normal(mean,varriance)"
      ]
    },
    {
      "cell_type": "code",
      "metadata": {
        "id": "INLQxOJdb7S3"
      },
      "source": [
        "k=norm.pdf(x,n*p,n*p*(1-p)) #To estimate binomial probability using normal(gauss) probability distribution of p"
      ],
      "execution_count": 120,
      "outputs": []
    },
    {
      "cell_type": "code",
      "metadata": {
        "colab": {
          "base_uri": "https://localhost:8080/",
          "height": 283
        },
        "id": "KWWgTP_kZP_2",
        "outputId": "8378d06e-cd59-4e7d-ef70-4516961ddba8"
      },
      "source": [
        "plt.plot(x,y, label=\"binomial\")\n",
        "plt.plot(x,f, label=\"poisson\")\n",
        "plt.plot(x,k, label=\"normal\")\n",
        "plt.legend()\n",
        "#Graphs showing all the distributions"
      ],
      "execution_count": 123,
      "outputs": [
        {
          "output_type": "execute_result",
          "data": {
            "text/plain": [
              "<matplotlib.legend.Legend at 0x7fd17970fdd0>"
            ]
          },
          "metadata": {
            "tags": []
          },
          "execution_count": 123
        },
        {
          "output_type": "display_data",
          "data": {
            "image/png": "[encoded data removed]",
            "text/plain": [
              "<Figure size 432x288 with 1 Axes>"
            ]
          },
          "metadata": {
            "tags": [],
            "needs_background": "light"
          }
        }
      ]
    }
  ]
}